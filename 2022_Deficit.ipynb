{
 "cells": [
  {
   "cell_type": "code",
   "execution_count": 1,
   "id": "ab8fb244-ae43-482a-adc2-70470730e95f",
   "metadata": {},
   "outputs": [],
   "source": [
    "import os\n",
    "from datetime import datetime\n",
    "# import matplotlib.pyplot as plt\n",
    "# from matplotlib.colors import LinearSegmentedColormap\n",
    "import psycopg2\n",
    "import pandas as pd\n",
    "import geopandas as gpd\n",
    "from geopandas import plotting\n",
    "from shapely import wkb\n",
    "import geocube\n",
    "from geocube.api.core import make_geocube\n",
    "from geocube.rasterize import rasterize_image\n",
    "# import rioxarray\n",
    "# import xarray as xr\n",
    "import sys"
   ]
  },
  {
   "cell_type": "code",
   "execution_count": 2,
   "id": "2b02eae4-2efa-4ce6-9600-6f8deaa6b794",
   "metadata": {},
   "outputs": [],
   "source": [
    "# Database connection parameters\n",
    "db_params = {\n",
    "    \"host\": \"\",\n",
    "    \"port\": \"\",\n",
    "    \"database\": \"\",\n",
    "    \"user\": \"devtest\",\n",
    "    \"password\": \"\"\n",
    "}\n",
    "# Connect to the database\n",
    "conn = psycopg2.connect(**db_params)\n",
    "cur = conn.cursor()"
   ]
  },
  {
   "cell_type": "code",
   "execution_count": 3,
   "id": "7167bb3f-10d4-4084-8561-888a9eec06d5",
   "metadata": {},
   "outputs": [],
   "source": [
    "# Define SQL Query to join tables\n",
    "query = \"\"\"  \n",
    "    SELECT g.id, g.cell, a.geom, a.name_1\n",
    "    FROM public.grid_005dd AS g\n",
    "    JOIN thematic.gadm4_admin_level1_boundaries AS a ON ST_Intersects(g.cell, a.geom)\n",
    "    WHERE a.name_1 = 'Mandera';\n",
    "\"\"\""
   ]
  },
  {
   "cell_type": "code",
   "execution_count": 4,
   "id": "b101c6d3-cfa5-466e-befa-d824850adc1e",
   "metadata": {},
   "outputs": [],
   "source": [
    "# Execute the query and fetch the data\n",
    "cur.execute(query)\n",
    "data = cur.fetchall()"
   ]
  },
  {
   "cell_type": "code",
   "execution_count": 5,
   "id": "b98cc389-8c48-467d-ad70-0384bbaa3f9a",
   "metadata": {},
   "outputs": [],
   "source": [
    "# Convert the fetched data into a DataFrame\n",
    "column_names = [\"grid_id\", \"geometry\", \"a_geom\", \"county_name\"]\n",
    "df = pd.DataFrame(data, columns=column_names)\n",
    "\n",
    "# Convert the 'g005d_id' column to integer\n",
    "df['grid_id'] = df['grid_id'].astype(int)"
   ]
  },
  {
   "cell_type": "code",
   "execution_count": 6,
   "id": "cd39d882-1ad3-4fb6-b2c4-70b3d62dfabd",
   "metadata": {},
   "outputs": [
    {
     "name": "stdout",
     "output_type": "stream",
     "text": [
      "      grid_id                                           geometry  \\\n",
      "0    15863330  0106000020E61000000100000001030000000100000005...   \n",
      "1    15827327  0106000020E61000000100000001030000000100000005...   \n",
      "2    15852522  0106000020E61000000100000001030000000100000005...   \n",
      "3    15848928  0106000020E61000000100000001030000000100000005...   \n",
      "4    15852521  0106000020E61000000100000001030000000100000005...   \n",
      "..        ...                                                ...   \n",
      "924  15834535  0106000020E61000000100000001030000000100000005...   \n",
      "925  15830933  0106000020E61000000100000001030000000100000005...   \n",
      "926  15841734  0106000020E61000000100000001030000000100000005...   \n",
      "927  15830932  0106000020E61000000100000001030000000100000005...   \n",
      "928  15823734  0106000020E61000000100000001030000000100000005...   \n",
      "\n",
      "                                                a_geom county_name  \n",
      "0    0103000020E610000001000000EF01000048110000667E...     Mandera  \n",
      "1    0103000020E610000001000000EF01000048110000667E...     Mandera  \n",
      "2    0103000020E610000001000000EF01000048110000667E...     Mandera  \n",
      "3    0103000020E610000001000000EF01000048110000667E...     Mandera  \n",
      "4    0103000020E610000001000000EF01000048110000667E...     Mandera  \n",
      "..                                                 ...         ...  \n",
      "924  0103000020E610000001000000EF01000048110000667E...     Mandera  \n",
      "925  0103000020E610000001000000EF01000048110000667E...     Mandera  \n",
      "926  0103000020E610000001000000EF01000048110000667E...     Mandera  \n",
      "927  0103000020E610000001000000EF01000048110000667E...     Mandera  \n",
      "928  0103000020E610000001000000EF01000048110000667E...     Mandera  \n",
      "\n",
      "[929 rows x 4 columns]\n"
     ]
    }
   ],
   "source": [
    "print(df)"
   ]
  },
  {
   "cell_type": "code",
   "execution_count": 7,
   "id": "58f8fd71-7a27-48f3-97c4-4a96b62a2a3b",
   "metadata": {},
   "outputs": [],
   "source": [
    "# Convert WKB to Shapely geometry for 'cell' and 'a'\n",
    "df['geometry'] = df['geometry'].apply(lambda x: wkb.loads(x, hex=True))\n",
    "df['a_geom'] = df['a_geom'].apply(lambda x: wkb.loads(x, hex=True))"
   ]
  },
  {
   "cell_type": "code",
   "execution_count": 8,
   "id": "61345fbd-af15-4b5e-9903-7014e96aaaa5",
   "metadata": {},
   "outputs": [],
   "source": [
    "# Create GeoDataFrames for 'cell' and 'a'\n",
    "gdf = gpd.GeoDataFrame(df, geometry='geometry')\n",
    "a = gpd.GeoDataFrame(df, geometry='a_geom')"
   ]
  },
  {
   "cell_type": "code",
   "execution_count": 9,
   "id": "5cdfdbef-4bf4-44eb-be30-78123536fffa",
   "metadata": {},
   "outputs": [
    {
     "name": "stdout",
     "output_type": "stream",
     "text": [
      "      grid_id                                           geometry  \\\n",
      "0    15863330  MULTIPOLYGON (((40.35000 3.55000, 40.35000 3.5...   \n",
      "1    15827327  MULTIPOLYGON (((39.85000 3.70000, 39.85000 3.6...   \n",
      "2    15852522  MULTIPOLYGON (((40.20000 3.95000, 40.20000 3.9...   \n",
      "3    15848928  MULTIPOLYGON (((40.15000 3.65000, 40.15000 3.6...   \n",
      "4    15852521  MULTIPOLYGON (((40.20000 4.00000, 40.20000 3.9...   \n",
      "..        ...                                                ...   \n",
      "924  15834535  MULTIPOLYGON (((39.95000 3.30000, 39.95000 3.2...   \n",
      "925  15830933  MULTIPOLYGON (((39.90000 3.40000, 39.90000 3.3...   \n",
      "926  15841734  MULTIPOLYGON (((40.05000 3.35000, 40.05000 3.3...   \n",
      "927  15830932  MULTIPOLYGON (((39.90000 3.45000, 39.90000 3.4...   \n",
      "928  15823734  MULTIPOLYGON (((39.80000 3.35000, 39.80000 3.3...   \n",
      "\n",
      "                                                a_geom county_name  \n",
      "0    POLYGON ((40.987487793000184 2.341545106000069...     Mandera  \n",
      "1    POLYGON ((40.987487793000184 2.341545106000069...     Mandera  \n",
      "2    POLYGON ((40.987487793000184 2.341545106000069...     Mandera  \n",
      "3    POLYGON ((40.987487793000184 2.341545106000069...     Mandera  \n",
      "4    POLYGON ((40.987487793000184 2.341545106000069...     Mandera  \n",
      "..                                                 ...         ...  \n",
      "924  POLYGON ((40.987487793000184 2.341545106000069...     Mandera  \n",
      "925  POLYGON ((40.987487793000184 2.341545106000069...     Mandera  \n",
      "926  POLYGON ((40.987487793000184 2.341545106000069...     Mandera  \n",
      "927  POLYGON ((40.987487793000184 2.341545106000069...     Mandera  \n",
      "928  POLYGON ((40.987487793000184 2.341545106000069...     Mandera  \n",
      "\n",
      "[929 rows x 4 columns]\n"
     ]
    }
   ],
   "source": [
    "print(gdf)"
   ]
  },
  {
   "cell_type": "code",
   "execution_count": 10,
   "id": "8c579bfb-21b5-4559-acc7-1d65214a416b",
   "metadata": {},
   "outputs": [
    {
     "data": {
      "image/png": "[encoded data removed]",
      "text/plain": [
       "<Figure size 640x480 with 1 Axes>"
      ]
     },
     "metadata": {},
     "output_type": "display_data"
    }
   ],
   "source": [
    "a_plot = a.plot(color='blue', alpha=0.5)"
   ]
  },
  {
   "cell_type": "code",
   "execution_count": 11,
   "id": "605a25c6-7cbf-44cd-84db-bf1dde9b27df",
   "metadata": {},
   "outputs": [
    {
     "data": {
      "image/png": "[encoded data removed]",
      "text/plain": [
       "<Figure size 640x480 with 1 Axes>"
      ]
     },
     "metadata": {},
     "output_type": "display_data"
    }
   ],
   "source": [
    "cell_plot = gdf.plot(color='red', alpha=0.5)"
   ]
  },
  {
   "cell_type": "code",
   "execution_count": 12,
   "id": "71a21c42-adc3-48f1-9a8d-31b90b4b9e69",
   "metadata": {},
   "outputs": [
    {
     "data": {
      "text/plain": [
       "<Axes: >"
      ]
     },
     "execution_count": 12,
     "metadata": {},
     "output_type": "execute_result"
    },
    {
     "data": {
      "image/png": "[encoded data removed]",
      "text/plain": [
       "<Figure size 640x480 with 1 Axes>"
      ]
     },
     "metadata": {},
     "output_type": "display_data"
    }
   ],
   "source": [
    "# Plot the overlay\n",
    "ax = a.plot(color='blue', alpha=0.5)\n",
    "gdf.plot(ax=ax, color='red', alpha=0.5)"
   ]
  },
  {
   "cell_type": "code",
   "execution_count": 13,
   "id": "d93c78c6-878a-49e7-9efc-bdcbdc2e6d49",
   "metadata": {},
   "outputs": [],
   "source": [
    "# month ids\n",
    "months_ids = [\n",
    "    \"01\", \"02\", \"03\", \"04\", \"05\", \"06\",\n",
    "    \"07\", \"08\", \"09\", \"10\", \"11\", \"12\"\n",
    "]"
   ]
  },
  {
   "cell_type": "code",
   "execution_count": 14,
   "id": "b7b70582-59c3-4953-9915-345829fe119c",
   "metadata": {},
   "outputs": [],
   "source": [
    "# Base SQL\n",
    "base_sql = \"SELECT avg_rain_\"\n",
    "from_sql = \" FROM rainfall_deficit.grid_005dd_long_term_rain WHERE g005d_id=\"\n",
    "\n",
    "base_sql_current = \"SELECT final_\"\n",
    "from_sql_current = \" FROM rainfall_deficit.grid_005dd_chirps WHERE g005d_id=\"\n",
    "\n",
    "# Defining period\n",
    "from_date = \"2022-01-01\"\n",
    "to_date = \"2022-12-21\"\n",
    "\n",
    "from_date = datetime.strptime(from_date, '%Y-%m-%d')\n",
    "to_date = datetime.strptime(to_date, '%Y-%m-%d')\n",
    "\n",
    "# Decomposing the date\n",
    "start_date = from_date.strftime('%Y-%m-%d')\n",
    "end_date = to_date.strftime('%Y-%m-%d')\n",
    "\n",
    "from_year, from_month, from_decade = start_date.split('-')\n",
    "to_year, to_month, to_decade = end_date.split('-')\n",
    "\n",
    "if from_decade in [\"01\", \"11\"]:\n",
    "    from_month = int(from_month)-1\n",
    "    if from_month == 0:\n",
    "        from_year = int(from_year)-1\n",
    "        from_month = 12\n",
    "    from_month = str(from_month)\n",
    "    from_year = str(from_year)\n",
    "    from_decade = str(21)\n",
    "\n",
    "if to_decade in [\"01\", \"11\"]:\n",
    "    to_month = int(to_month)-1\n",
    "    if to_month == 0:\n",
    "        to_year = int(to_year)-1\n",
    "        to_month = 12\n",
    "    to_month = str(to_month)\n",
    "    to_year = str(to_year)\n",
    "    to_decade = str(21)"
   ]
  },
  {
   "cell_type": "code",
   "execution_count": 15,
   "id": "59640bf4-dfc9-4a00-a932-118d970f2e14",
   "metadata": {},
   "outputs": [],
   "source": [
    "# Create an empty list to store the results\n",
    "results = []\n",
    "\n",
    "# Loop through unique grid IDs in the DataFrame\n",
    "for grid_id in gdf['grid_id'].unique():\n",
    "    my_deficit = 0\n",
    "    my_peak_deficit = float('inf')  # Set initial value to positive infinity\n",
    "    my_peak_date = start_date\n",
    "    my_expected_rainfall = 0\n",
    "\n",
    "    for y in range(int(from_year), int(to_year)+1):\n",
    "        start_month = int(from_month) if y == int(from_year) else 1\n",
    "        end_month = int(to_month) if y == int(to_year) else 12\n",
    "\n",
    "        for m in range(start_month, end_month+1):\n",
    "            m_str = str(m).zfill(2)  # Convert to 2-digit format (e.g., '02' instead of '2')\n",
    "\n",
    "            sql = base_sql + m_str + from_sql + str(grid_id)\n",
    "            cur.execute(sql)\n",
    "            avg = cur.fetchone()[0]\n",
    "\n",
    "            sql = base_sql_current + m_str + from_sql_current + str(grid_id)\n",
    "            cur.execute(sql)\n",
    "            rain = cur.fetchone()[0]\n",
    "\n",
    "            my_expected_rainfall = avg + my_expected_rainfall\n",
    "            monthly_deficit = rain - avg\n",
    "\n",
    "            my_deficit += monthly_deficit\n",
    "\n",
    "            if monthly_deficit < my_peak_deficit:\n",
    "                my_peak_deficit = monthly_deficit\n",
    "                my_peak_date = str(y) + \"-\" + m_str + \"-01\"\n",
    "\n",
    "    # Append the results to the list\n",
    "    results.append({'grid_id': grid_id,\n",
    "                    'from_date': start_date,\n",
    "                    'to_date': end_date,\n",
    "                    'peak_date': my_peak_date,\n",
    "                    'peak_deficit': my_peak_deficit,\n",
    "                    'deficit': my_deficit,\n",
    "                    'expected_precipitation': my_expected_rainfall})\n",
    "\n",
    "# Convert the list of dictionaries to a DataFrame\n",
    "deficit_df = pd.DataFrame(results)"
   ]
  },
  {
   "cell_type": "code",
   "execution_count": 16,
   "id": "85b758e2-bb09-4bf7-a8e7-a3644d9c58d8",
   "metadata": {},
   "outputs": [
    {
     "name": "stdout",
     "output_type": "stream",
     "text": [
      "2021\n"
     ]
    }
   ],
   "source": [
    "print(from_year)"
   ]
  },
  {
   "cell_type": "code",
   "execution_count": 17,
   "id": "c5ddb6d5-47d2-42a0-acfa-3eae8da5aa32",
   "metadata": {},
   "outputs": [
    {
     "name": "stdout",
     "output_type": "stream",
     "text": [
      "    grid_id   from_date     to_date   peak_date  peak_deficit  deficit  \\\n",
      "0  15863330  2022-01-01  2022-12-21  2022-10-01         -55.8   -112.0   \n",
      "1  15827327  2022-01-01  2022-12-21  2022-10-01         -72.8   -139.0   \n",
      "2  15852522  2022-01-01  2022-12-21  2022-10-01         -73.6    -76.2   \n",
      "3  15848928  2022-01-01  2022-12-21  2022-10-01         -58.8   -117.0   \n",
      "4  15852521  2022-01-01  2022-12-21  2022-10-01         -74.4    -80.8   \n",
      "\n",
      "   expected_precipitation  \n",
      "0                   486.0  \n",
      "1                   549.0  \n",
      "2                   533.2  \n",
      "3                   503.0  \n",
      "4                   556.8  \n"
     ]
    }
   ],
   "source": [
    "# Print the resulting DataFrame\n",
    "print(deficit_df.head())"
   ]
  },
  {
   "cell_type": "code",
   "execution_count": 18,
   "id": "f2e5de89-aac1-4346-8fc7-3b9b8e44e8cf",
   "metadata": {},
   "outputs": [
    {
     "name": "stdout",
     "output_type": "stream",
     "text": [
      "Total number of rows: 929\n"
     ]
    }
   ],
   "source": [
    "total_rows = len(deficit_df)\n",
    "print(\"Total number of rows:\", total_rows)"
   ]
  },
  {
   "cell_type": "code",
   "execution_count": 19,
   "id": "9ed1492f-58c6-454e-ba8a-8eec1ae238a1",
   "metadata": {},
   "outputs": [],
   "source": [
    "# Assuming that 'grid_id' is the common column between deficit_df and gdf\n",
    "merged_df = pd.merge(deficit_df, gdf, on='grid_id')"
   ]
  },
  {
   "cell_type": "code",
   "execution_count": 20,
   "id": "ce773ff0-bd28-4b4d-b393-4d66b4d9d168",
   "metadata": {},
   "outputs": [],
   "source": [
    "# Create a GeoDataFrame from the merged DataFrame\n",
    "gdf = gpd.GeoDataFrame(merged_df, geometry='geometry')"
   ]
  },
  {
   "cell_type": "code",
   "execution_count": 21,
   "id": "e90c7636-4b0f-4cab-b70e-a205cefa75f2",
   "metadata": {},
   "outputs": [
    {
     "name": "stdout",
     "output_type": "stream",
     "text": [
      "      grid_id   from_date     to_date   peak_date  peak_deficit  deficit  \\\n",
      "0    15863330  2022-01-01  2022-12-21  2022-10-01         -55.8   -112.0   \n",
      "1    15827327  2022-01-01  2022-12-21  2022-10-01         -72.8   -139.0   \n",
      "2    15852522  2022-01-01  2022-12-21  2022-10-01         -73.6    -76.2   \n",
      "3    15848928  2022-01-01  2022-12-21  2022-10-01         -58.8   -117.0   \n",
      "4    15852521  2022-01-01  2022-12-21  2022-10-01         -74.4    -80.8   \n",
      "..        ...         ...         ...         ...           ...      ...   \n",
      "924  15834535  2022-01-01  2022-12-21  2022-10-01         -57.4   -123.6   \n",
      "925  15830933  2022-01-01  2022-12-21  2022-10-01         -56.0   -130.8   \n",
      "926  15841734  2022-01-01  2022-12-21  2022-10-01         -49.6   -138.6   \n",
      "927  15830932  2022-01-01  2022-12-21  2022-10-01         -62.4   -149.2   \n",
      "928  15823734  2022-01-01  2022-12-21  2022-10-01         -53.4   -127.2   \n",
      "\n",
      "     expected_precipitation  \\\n",
      "0                     486.0   \n",
      "1                     549.0   \n",
      "2                     533.2   \n",
      "3                     503.0   \n",
      "4                     556.8   \n",
      "..                      ...   \n",
      "924                   493.6   \n",
      "925                   494.8   \n",
      "926                   470.6   \n",
      "927                   525.2   \n",
      "928                   496.2   \n",
      "\n",
      "                                              geometry  \\\n",
      "0    MULTIPOLYGON (((40.35000 3.55000, 40.35000 3.5...   \n",
      "1    MULTIPOLYGON (((39.85000 3.70000, 39.85000 3.6...   \n",
      "2    MULTIPOLYGON (((40.20000 3.95000, 40.20000 3.9...   \n",
      "3    MULTIPOLYGON (((40.15000 3.65000, 40.15000 3.6...   \n",
      "4    MULTIPOLYGON (((40.20000 4.00000, 40.20000 3.9...   \n",
      "..                                                 ...   \n",
      "924  MULTIPOLYGON (((39.95000 3.30000, 39.95000 3.2...   \n",
      "925  MULTIPOLYGON (((39.90000 3.40000, 39.90000 3.3...   \n",
      "926  MULTIPOLYGON (((40.05000 3.35000, 40.05000 3.3...   \n",
      "927  MULTIPOLYGON (((39.90000 3.45000, 39.90000 3.4...   \n",
      "928  MULTIPOLYGON (((39.80000 3.35000, 39.80000 3.3...   \n",
      "\n",
      "                                                a_geom county_name  \n",
      "0    POLYGON ((40.987487793000184 2.341545106000069...     Mandera  \n",
      "1    POLYGON ((40.987487793000184 2.341545106000069...     Mandera  \n",
      "2    POLYGON ((40.987487793000184 2.341545106000069...     Mandera  \n",
      "3    POLYGON ((40.987487793000184 2.341545106000069...     Mandera  \n",
      "4    POLYGON ((40.987487793000184 2.341545106000069...     Mandera  \n",
      "..                                                 ...         ...  \n",
      "924  POLYGON ((40.987487793000184 2.341545106000069...     Mandera  \n",
      "925  POLYGON ((40.987487793000184 2.341545106000069...     Mandera  \n",
      "926  POLYGON ((40.987487793000184 2.341545106000069...     Mandera  \n",
      "927  POLYGON ((40.987487793000184 2.341545106000069...     Mandera  \n",
      "928  POLYGON ((40.987487793000184 2.341545106000069...     Mandera  \n",
      "\n",
      "[929 rows x 10 columns]\n"
     ]
    }
   ],
   "source": [
    "print(gdf)"
   ]
  },
  {
   "cell_type": "code",
   "execution_count": 22,
   "id": "5315c308-fd50-455d-b0f4-8ed1c7edec51",
   "metadata": {},
   "outputs": [
    {
     "name": "stderr",
     "output_type": "stream",
     "text": [
      "C:\\Users\\admin\\AppData\\Local\\Temp\\ipykernel_23296\\4132373405.py:20: UserWarning: set_ticklabels() should only be used with a fixed number of ticks, i.e. after set_ticks() or using a FixedLocator.\n",
      "  ax.set_xticklabels(x_tick_labels)\n",
      "C:\\Users\\admin\\AppData\\Local\\Temp\\ipykernel_23296\\4132373405.py:24: UserWarning: set_ticklabels() should only be used with a fixed number of ticks, i.e. after set_ticks() or using a FixedLocator.\n",
      "  ax.set_yticklabels(y_tick_labels)\n"
     ]
    },
    {
     "data": {
      "image/png": "[encoded data removed]",
      "text/plain": [
       "<Figure size 1000x1000 with 2 Axes>"
      ]
     },
     "metadata": {},
     "output_type": "display_data"
    }
   ],
   "source": [
    "# Set the year\n",
    "year = 2022\n",
    "\n",
    "# Get the name_1 value from the DataFrame\n",
    "name_1 = gdf['county_name'].iloc[9]\n",
    "\n",
    "# Create a new figure and axis for the deficit\n",
    "ax = gdf.plot(column=gdf['deficit'], cmap='RdYlGn', legend=True, legend_kwds={'label': \"mm\"}, figsize=(10, 10))\n",
    "\n",
    "# Set the title for the current month with the year and name_1\n",
    "ax.set_title(f'Rainfall Deficit for {year} in {name_1} County', fontsize=12)\n",
    "\n",
    "# Set x and y axis labels with degrees and directions\n",
    "ax.set_xlabel('Longitude', fontsize=10)  # Example label, adjust as needed\n",
    "ax.set_ylabel('Latitude', fontsize=10)   # Example label, adjust as needed\n",
    "\n",
    "# Set x and y axis ticks with directions\n",
    "x_ticks = ax.get_xticks()\n",
    "x_tick_labels = [f'{tick:.1f}°E' if tick >= 0 else f'{abs(tick):.1f}°W' for tick in x_ticks]\n",
    "ax.set_xticklabels(x_tick_labels)\n",
    "\n",
    "y_ticks = ax.get_yticks()\n",
    "y_tick_labels = [f'{tick:.1f}°N' if tick >= 0 else f'{abs(tick):.1f}°S' for tick in y_ticks]\n",
    "ax.set_yticklabels(y_tick_labels)\n",
    "\n",
    "# Define the directory name\n",
    "directory_name = f'{name_1}_{year}_deficit'\n",
    "\n",
    "# Create the directory if it doesn't exist\n",
    "os.makedirs(directory_name, exist_ok=True)\n",
    "\n",
    "# Define the file name\n",
    "file_name = f'{directory_name}/rainfall_deficit_{year}_{name_1}.png'\n",
    "\n",
    "# Save the plot as an image\n",
    "ax.figure.savefig(file_name, bbox_inches='tight', pad_inches=0)"
   ]
  },
  {
   "cell_type": "code",
   "execution_count": 23,
   "id": "5edeaf73-870b-40a6-95a9-8c69a65e91ed",
   "metadata": {},
   "outputs": [],
   "source": [
    "# Set the resolution of the output GeoTIFF\n",
    "resolution = (-0.005, 0.005)  # Adjust as needed\n",
    "\n",
    "# Set the yeay\n",
    "year = 2022\n",
    "\n",
    "# Get the name_1 value from the DataFrame\n",
    "name_1 = gdf['county_name'].iloc[9]\n",
    "\n",
    "# Create a GeoCube\n",
    "cube = make_geocube(vector_data=gdf, measurements=['deficit'], resolution=resolution)\n",
    "\n",
    "# Convert cube to xarray Dataset\n",
    "ds = cube.squeeze()\n",
    "\n",
    "# Define the directory name\n",
    "directory_name = f'{name_1}_2022_deficit_tiff_file'\n",
    "\n",
    "# Create the directory if it doesn't exist\n",
    "os.makedirs(directory_name, exist_ok=True)\n",
    "\n",
    "# Export GeoTIFF\n",
    "output_tiff_path = f'{directory_name}/{name_1}_{year}_Deficit.tiff'\n",
    "ds.rio.to_raster(output_tiff_path, driver='GTiff')"
   ]
  },
  {
   "cell_type": "code",
   "execution_count": null,
   "id": "caea5846-cf03-4bf8-a224-dc256e953fe5",
   "metadata": {},
   "outputs": [],
   "source": []
  }
 ],
 "metadata": {
  "kernelspec": {
   "display_name": "Python 3 (ipykernel)",
   "language": "python",
   "name": "python3"
  },
  "language_info": {
   "codemirror_mode": {
    "name": "ipython",
    "version": 3
   },
   "file_extension": ".py",
   "mimetype": "text/x-python",
   "name": "python",
   "nbconvert_exporter": "python",
   "pygments_lexer": "ipython3",
   "version": "3.11.6"
  }
 },
 "nbformat": 4,
 "nbformat_minor": 5
}
